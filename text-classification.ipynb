{
 "cells": [
  {
   "cell_type": "markdown",
   "metadata": {},
   "source": [
    "## Step 1: Explanatory Data Analysis and Feature Engineering"
   ]
  },
  {
   "cell_type": "markdown",
   "metadata": {},
   "source": [
    "### Import Necessary Libraries"
   ]
  },
  {
   "cell_type": "code",
   "execution_count": null,
   "metadata": {},
   "outputs": [
    {
     "ename": "",
     "evalue": "",
     "output_type": "error",
     "traceback": [
      "\u001b[1;31mRunning cells with 'test' requires the ipykernel package.\n",
      "\u001b[1;31mRun the following command to install 'ipykernel' into the Python environment. \n",
      "\u001b[1;31mCommand: 'c:/Users/hp/Envs/test/Scripts/python.exe -m pip install ipykernel -U --force-reinstall'"
     ]
    }
   ],
   "source": [
    "import pandas as pd\n",
    "import numpy as np\n",
    "import seaborn as sns\n",
    "import matplotlib.pyplot as plt\n",
    "from sklearn.metrics import confusion_matrix\n",
    "from sklearn.model_selection import train_test_split\n",
    "from sklearn.feature_extraction.text import TfidfVectorizer\n",
    "from sklearn.preprocessing import LabelEncoder\n",
    "from sklearn.linear_model import LogisticRegression\n",
    "from sklearn.metrics import accuracy_score, classification_report, confusion_matrix\n",
    "from sklearn.feature_extraction.text import TfidfVectorizer\n",
    "from sklearn.preprocessing import StandardScaler"
   ]
  },
  {
   "cell_type": "markdown",
   "metadata": {},
   "source": [
    "### Load The Dataset"
   ]
  },
  {
   "cell_type": "code",
   "execution_count": 3,
   "metadata": {},
   "outputs": [],
   "source": [
    "complaints_df = pd.read_csv(\"consumer_complaints.csv\")"
   ]
  },
  {
   "cell_type": "markdown",
   "metadata": {},
   "source": [
    "### Explore The Dataset"
   ]
  },
  {
   "cell_type": "code",
   "execution_count": 4,
   "metadata": {},
   "outputs": [
    {
     "data": {
      "text/html": [
       "<div>\n",
       "<style scoped>\n",
       "    .dataframe tbody tr th:only-of-type {\n",
       "        vertical-align: middle;\n",
       "    }\n",
       "\n",
       "    .dataframe tbody tr th {\n",
       "        vertical-align: top;\n",
       "    }\n",
       "\n",
       "    .dataframe thead th {\n",
       "        text-align: right;\n",
       "    }\n",
       "</style>\n",
       "<table border=\"1\" class=\"dataframe\">\n",
       "  <thead>\n",
       "    <tr style=\"text-align: right;\">\n",
       "      <th></th>\n",
       "      <th>Date received</th>\n",
       "      <th>Product</th>\n",
       "      <th>Sub-product</th>\n",
       "      <th>Issue</th>\n",
       "      <th>Sub-issue</th>\n",
       "      <th>Consumer complaint narrative</th>\n",
       "      <th>Company public response</th>\n",
       "      <th>Company</th>\n",
       "      <th>State</th>\n",
       "      <th>ZIP code</th>\n",
       "      <th>Tags</th>\n",
       "      <th>Consumer consent provided?</th>\n",
       "      <th>Submitted via</th>\n",
       "      <th>Date sent to company</th>\n",
       "      <th>Company response to consumer</th>\n",
       "      <th>Timely response?</th>\n",
       "      <th>Consumer disputed?</th>\n",
       "      <th>Complaint ID</th>\n",
       "    </tr>\n",
       "  </thead>\n",
       "  <tbody>\n",
       "    <tr>\n",
       "      <th>0</th>\n",
       "      <td>2023-09-04</td>\n",
       "      <td>Money transfer, virtual currency, or money ser...</td>\n",
       "      <td>Mobile or digital wallet</td>\n",
       "      <td>Trouble accessing funds in your mobile or digi...</td>\n",
       "      <td>NaN</td>\n",
       "      <td>NaN</td>\n",
       "      <td>NaN</td>\n",
       "      <td>Paypal Holdings, Inc</td>\n",
       "      <td>NC</td>\n",
       "      <td>27587</td>\n",
       "      <td>NaN</td>\n",
       "      <td>NaN</td>\n",
       "      <td>Web</td>\n",
       "      <td>2023-09-04</td>\n",
       "      <td>Closed with explanation</td>\n",
       "      <td>Yes</td>\n",
       "      <td>NaN</td>\n",
       "      <td>7493283</td>\n",
       "    </tr>\n",
       "    <tr>\n",
       "      <th>1</th>\n",
       "      <td>2023-09-06</td>\n",
       "      <td>Debt collection</td>\n",
       "      <td>Other debt</td>\n",
       "      <td>Attempts to collect debt not owed</td>\n",
       "      <td>Debt was result of identity theft</td>\n",
       "      <td>NaN</td>\n",
       "      <td>Company believes the complaint is the result o...</td>\n",
       "      <td>CCS Financial Services, Inc.</td>\n",
       "      <td>FL</td>\n",
       "      <td>33032</td>\n",
       "      <td>NaN</td>\n",
       "      <td>NaN</td>\n",
       "      <td>Web</td>\n",
       "      <td>2023-09-06</td>\n",
       "      <td>Closed with explanation</td>\n",
       "      <td>Yes</td>\n",
       "      <td>NaN</td>\n",
       "      <td>7510657</td>\n",
       "    </tr>\n",
       "    <tr>\n",
       "      <th>2</th>\n",
       "      <td>2023-09-06</td>\n",
       "      <td>Checking or savings account</td>\n",
       "      <td>Other banking product or service</td>\n",
       "      <td>Managing an account</td>\n",
       "      <td>Problem accessing account</td>\n",
       "      <td>NaN</td>\n",
       "      <td>NaN</td>\n",
       "      <td>CAPITAL ONE FINANCIAL CORPORATION</td>\n",
       "      <td>LA</td>\n",
       "      <td>70117</td>\n",
       "      <td>NaN</td>\n",
       "      <td>NaN</td>\n",
       "      <td>Web</td>\n",
       "      <td>2023-09-06</td>\n",
       "      <td>Closed with non-monetary relief</td>\n",
       "      <td>Yes</td>\n",
       "      <td>NaN</td>\n",
       "      <td>7510356</td>\n",
       "    </tr>\n",
       "    <tr>\n",
       "      <th>3</th>\n",
       "      <td>2023-09-07</td>\n",
       "      <td>Debt collection</td>\n",
       "      <td>Credit card debt</td>\n",
       "      <td>Communication tactics</td>\n",
       "      <td>Frequent or repeated calls</td>\n",
       "      <td>NaN</td>\n",
       "      <td>NaN</td>\n",
       "      <td>PORTFOLIO RECOVERY ASSOCIATES INC</td>\n",
       "      <td>PA</td>\n",
       "      <td>150XX</td>\n",
       "      <td>NaN</td>\n",
       "      <td>NaN</td>\n",
       "      <td>Web</td>\n",
       "      <td>2023-09-07</td>\n",
       "      <td>Closed with non-monetary relief</td>\n",
       "      <td>Yes</td>\n",
       "      <td>NaN</td>\n",
       "      <td>7514982</td>\n",
       "    </tr>\n",
       "    <tr>\n",
       "      <th>4</th>\n",
       "      <td>2023-09-13</td>\n",
       "      <td>Credit reporting or other personal consumer re...</td>\n",
       "      <td>Credit reporting</td>\n",
       "      <td>Incorrect information on your report</td>\n",
       "      <td>Old information reappears or never goes away</td>\n",
       "      <td>NaN</td>\n",
       "      <td>NaN</td>\n",
       "      <td>EQUIFAX, INC.</td>\n",
       "      <td>FL</td>\n",
       "      <td>33805</td>\n",
       "      <td>NaN</td>\n",
       "      <td>NaN</td>\n",
       "      <td>Web</td>\n",
       "      <td>2023-09-13</td>\n",
       "      <td>In progress</td>\n",
       "      <td>Yes</td>\n",
       "      <td>NaN</td>\n",
       "      <td>7537220</td>\n",
       "    </tr>\n",
       "    <tr>\n",
       "      <th>5</th>\n",
       "      <td>2023-09-13</td>\n",
       "      <td>Credit reporting or other personal consumer re...</td>\n",
       "      <td>Credit reporting</td>\n",
       "      <td>Problem with a company's investigation into an...</td>\n",
       "      <td>Their investigation did not fix an error on yo...</td>\n",
       "      <td>NaN</td>\n",
       "      <td>NaN</td>\n",
       "      <td>TRANSUNION INTERMEDIATE HOLDINGS, INC.</td>\n",
       "      <td>NH</td>\n",
       "      <td>03054</td>\n",
       "      <td>NaN</td>\n",
       "      <td>NaN</td>\n",
       "      <td>Web</td>\n",
       "      <td>2023-09-13</td>\n",
       "      <td>In progress</td>\n",
       "      <td>Yes</td>\n",
       "      <td>NaN</td>\n",
       "      <td>7537073</td>\n",
       "    </tr>\n",
       "    <tr>\n",
       "      <th>6</th>\n",
       "      <td>2023-09-11</td>\n",
       "      <td>Credit reporting or other personal consumer re...</td>\n",
       "      <td>Credit reporting</td>\n",
       "      <td>Problem with a company's investigation into an...</td>\n",
       "      <td>Their investigation did not fix an error on yo...</td>\n",
       "      <td>NaN</td>\n",
       "      <td>Company has responded to the consumer and the ...</td>\n",
       "      <td>BANK OF AMERICA, NATIONAL ASSOCIATION</td>\n",
       "      <td>CA</td>\n",
       "      <td>95662</td>\n",
       "      <td>NaN</td>\n",
       "      <td>NaN</td>\n",
       "      <td>Web</td>\n",
       "      <td>2023-09-11</td>\n",
       "      <td>Closed with explanation</td>\n",
       "      <td>Yes</td>\n",
       "      <td>NaN</td>\n",
       "      <td>7529385</td>\n",
       "    </tr>\n",
       "    <tr>\n",
       "      <th>7</th>\n",
       "      <td>2023-09-11</td>\n",
       "      <td>Mortgage</td>\n",
       "      <td>VA mortgage</td>\n",
       "      <td>Trouble during payment process</td>\n",
       "      <td>Escrow, taxes, or insurance</td>\n",
       "      <td>NaN</td>\n",
       "      <td>NaN</td>\n",
       "      <td>NATIONS DIRECT MORTGAGE, LLC</td>\n",
       "      <td>IL</td>\n",
       "      <td>60103</td>\n",
       "      <td>Servicemember</td>\n",
       "      <td>NaN</td>\n",
       "      <td>Web</td>\n",
       "      <td>2023-09-11</td>\n",
       "      <td>In progress</td>\n",
       "      <td>Yes</td>\n",
       "      <td>NaN</td>\n",
       "      <td>7531974</td>\n",
       "    </tr>\n",
       "    <tr>\n",
       "      <th>8</th>\n",
       "      <td>2023-09-11</td>\n",
       "      <td>Debt collection</td>\n",
       "      <td>Medical debt</td>\n",
       "      <td>Written notification about debt</td>\n",
       "      <td>Didn't receive enough information to verify debt</td>\n",
       "      <td>NaN</td>\n",
       "      <td>NaN</td>\n",
       "      <td>Procollect Services LLC</td>\n",
       "      <td>ND</td>\n",
       "      <td>58701</td>\n",
       "      <td>NaN</td>\n",
       "      <td>NaN</td>\n",
       "      <td>Web</td>\n",
       "      <td>2023-09-11</td>\n",
       "      <td>Closed with explanation</td>\n",
       "      <td>Yes</td>\n",
       "      <td>NaN</td>\n",
       "      <td>7531501</td>\n",
       "    </tr>\n",
       "    <tr>\n",
       "      <th>9</th>\n",
       "      <td>2023-09-12</td>\n",
       "      <td>Credit reporting or other personal consumer re...</td>\n",
       "      <td>Credit reporting</td>\n",
       "      <td>Incorrect information on your report</td>\n",
       "      <td>Information belongs to someone else</td>\n",
       "      <td>NaN</td>\n",
       "      <td>NaN</td>\n",
       "      <td>Experian Information Solutions Inc.</td>\n",
       "      <td>CA</td>\n",
       "      <td>92311</td>\n",
       "      <td>NaN</td>\n",
       "      <td>NaN</td>\n",
       "      <td>Web</td>\n",
       "      <td>2023-09-12</td>\n",
       "      <td>In progress</td>\n",
       "      <td>Yes</td>\n",
       "      <td>NaN</td>\n",
       "      <td>7535727</td>\n",
       "    </tr>\n",
       "  </tbody>\n",
       "</table>\n",
       "</div>"
      ],
      "text/plain": [
       "  Date received                                            Product  \\\n",
       "0    2023-09-04  Money transfer, virtual currency, or money ser...   \n",
       "1    2023-09-06                                    Debt collection   \n",
       "2    2023-09-06                        Checking or savings account   \n",
       "3    2023-09-07                                    Debt collection   \n",
       "4    2023-09-13  Credit reporting or other personal consumer re...   \n",
       "5    2023-09-13  Credit reporting or other personal consumer re...   \n",
       "6    2023-09-11  Credit reporting or other personal consumer re...   \n",
       "7    2023-09-11                                           Mortgage   \n",
       "8    2023-09-11                                    Debt collection   \n",
       "9    2023-09-12  Credit reporting or other personal consumer re...   \n",
       "\n",
       "                        Sub-product  \\\n",
       "0          Mobile or digital wallet   \n",
       "1                        Other debt   \n",
       "2  Other banking product or service   \n",
       "3                  Credit card debt   \n",
       "4                  Credit reporting   \n",
       "5                  Credit reporting   \n",
       "6                  Credit reporting   \n",
       "7                       VA mortgage   \n",
       "8                      Medical debt   \n",
       "9                  Credit reporting   \n",
       "\n",
       "                                               Issue  \\\n",
       "0  Trouble accessing funds in your mobile or digi...   \n",
       "1                  Attempts to collect debt not owed   \n",
       "2                                Managing an account   \n",
       "3                              Communication tactics   \n",
       "4               Incorrect information on your report   \n",
       "5  Problem with a company's investigation into an...   \n",
       "6  Problem with a company's investigation into an...   \n",
       "7                     Trouble during payment process   \n",
       "8                    Written notification about debt   \n",
       "9               Incorrect information on your report   \n",
       "\n",
       "                                           Sub-issue  \\\n",
       "0                                                NaN   \n",
       "1                  Debt was result of identity theft   \n",
       "2                          Problem accessing account   \n",
       "3                         Frequent or repeated calls   \n",
       "4       Old information reappears or never goes away   \n",
       "5  Their investigation did not fix an error on yo...   \n",
       "6  Their investigation did not fix an error on yo...   \n",
       "7                        Escrow, taxes, or insurance   \n",
       "8   Didn't receive enough information to verify debt   \n",
       "9                Information belongs to someone else   \n",
       "\n",
       "  Consumer complaint narrative  \\\n",
       "0                          NaN   \n",
       "1                          NaN   \n",
       "2                          NaN   \n",
       "3                          NaN   \n",
       "4                          NaN   \n",
       "5                          NaN   \n",
       "6                          NaN   \n",
       "7                          NaN   \n",
       "8                          NaN   \n",
       "9                          NaN   \n",
       "\n",
       "                             Company public response  \\\n",
       "0                                                NaN   \n",
       "1  Company believes the complaint is the result o...   \n",
       "2                                                NaN   \n",
       "3                                                NaN   \n",
       "4                                                NaN   \n",
       "5                                                NaN   \n",
       "6  Company has responded to the consumer and the ...   \n",
       "7                                                NaN   \n",
       "8                                                NaN   \n",
       "9                                                NaN   \n",
       "\n",
       "                                  Company State ZIP code           Tags  \\\n",
       "0                    Paypal Holdings, Inc    NC    27587            NaN   \n",
       "1            CCS Financial Services, Inc.    FL    33032            NaN   \n",
       "2       CAPITAL ONE FINANCIAL CORPORATION    LA    70117            NaN   \n",
       "3       PORTFOLIO RECOVERY ASSOCIATES INC    PA    150XX            NaN   \n",
       "4                           EQUIFAX, INC.    FL    33805            NaN   \n",
       "5  TRANSUNION INTERMEDIATE HOLDINGS, INC.    NH    03054            NaN   \n",
       "6   BANK OF AMERICA, NATIONAL ASSOCIATION    CA    95662            NaN   \n",
       "7            NATIONS DIRECT MORTGAGE, LLC    IL    60103  Servicemember   \n",
       "8                 Procollect Services LLC    ND    58701            NaN   \n",
       "9     Experian Information Solutions Inc.    CA    92311            NaN   \n",
       "\n",
       "  Consumer consent provided? Submitted via Date sent to company  \\\n",
       "0                        NaN           Web           2023-09-04   \n",
       "1                        NaN           Web           2023-09-06   \n",
       "2                        NaN           Web           2023-09-06   \n",
       "3                        NaN           Web           2023-09-07   \n",
       "4                        NaN           Web           2023-09-13   \n",
       "5                        NaN           Web           2023-09-13   \n",
       "6                        NaN           Web           2023-09-11   \n",
       "7                        NaN           Web           2023-09-11   \n",
       "8                        NaN           Web           2023-09-11   \n",
       "9                        NaN           Web           2023-09-12   \n",
       "\n",
       "      Company response to consumer Timely response? Consumer disputed?  \\\n",
       "0          Closed with explanation              Yes                NaN   \n",
       "1          Closed with explanation              Yes                NaN   \n",
       "2  Closed with non-monetary relief              Yes                NaN   \n",
       "3  Closed with non-monetary relief              Yes                NaN   \n",
       "4                      In progress              Yes                NaN   \n",
       "5                      In progress              Yes                NaN   \n",
       "6          Closed with explanation              Yes                NaN   \n",
       "7                      In progress              Yes                NaN   \n",
       "8          Closed with explanation              Yes                NaN   \n",
       "9                      In progress              Yes                NaN   \n",
       "\n",
       "   Complaint ID  \n",
       "0       7493283  \n",
       "1       7510657  \n",
       "2       7510356  \n",
       "3       7514982  \n",
       "4       7537220  \n",
       "5       7537073  \n",
       "6       7529385  \n",
       "7       7531974  \n",
       "8       7531501  \n",
       "9       7535727  "
      ]
     },
     "execution_count": 4,
     "metadata": {},
     "output_type": "execute_result"
    }
   ],
   "source": [
    "complaints_df.head(10)  # Check the first few rows"
   ]
  },
  {
   "cell_type": "code",
   "execution_count": 5,
   "metadata": {},
   "outputs": [
    {
     "name": "stdout",
     "output_type": "stream",
     "text": [
      "<class 'pandas.core.frame.DataFrame'>\n",
      "RangeIndex: 4065103 entries, 0 to 4065102\n",
      "Data columns (total 18 columns):\n",
      " #   Column                        Dtype \n",
      "---  ------                        ----- \n",
      " 0   Date received                 object\n",
      " 1   Product                       object\n",
      " 2   Sub-product                   object\n",
      " 3   Issue                         object\n",
      " 4   Sub-issue                     object\n",
      " 5   Consumer complaint narrative  object\n",
      " 6   Company public response       object\n",
      " 7   Company                       object\n",
      " 8   State                         object\n",
      " 9   ZIP code                      object\n",
      " 10  Tags                          object\n",
      " 11  Consumer consent provided?    object\n",
      " 12  Submitted via                 object\n",
      " 13  Date sent to company          object\n",
      " 14  Company response to consumer  object\n",
      " 15  Timely response?              object\n",
      " 16  Consumer disputed?            object\n",
      " 17  Complaint ID                  int64 \n",
      "dtypes: int64(1), object(17)\n",
      "memory usage: 558.3+ MB\n",
      "None\n"
     ]
    }
   ],
   "source": [
    "print(complaints_df.info())  # Check data types and missing values"
   ]
  },
  {
   "cell_type": "markdown",
   "metadata": {},
   "source": [
    "### Creating a dictionary to map existing categories to the desired categories"
   ]
  },
  {
   "cell_type": "code",
   "execution_count": 6,
   "metadata": {},
   "outputs": [],
   "source": [
    "category_mapping = {\n",
    "    \"Credit reporting, credit repair services, or other personal consumer reports\": \"Credit reporting, repair, or other\",\n",
    "    \"Credit reporting or other personal consumer reports\": \"Credit reporting, repair, or other\",\n",
    "    \"Credit card or prepaid card\": \"Consumer Loan\",\n",
    "    \"Vehicle loan or lease\": \"Consumer Loan\",\n",
    "    \"Checking or savings account\": \"Consumer Loan\",\n",
    "    \"Money transfer, virtual currency, or money service\": \"Consumer Loan\",\n",
    "    \"Payday loan, title loan, or personal loan\": \"Consumer Loan\",\n",
    "    \"Credit card\": \"Consumer Loan\",\n",
    "    \"Student loan\": \"Consumer Loan\",\n",
    "    \"Payday loan, title loan, personal loan, or advance loan\": \"Consumer Loan\",\n",
    "    \"Debt collection\": \"Debt collection\",\n",
    "    \"Mortgage\": \"Mortgage\"\n",
    "}"
   ]
  },
  {
   "cell_type": "code",
   "execution_count": 7,
   "metadata": {},
   "outputs": [],
   "source": [
    "# Apply the category mapping directly to the 'Product' column\n",
    "complaints_df['Product'] = complaints_df['Product'].map(category_mapping)"
   ]
  },
  {
   "cell_type": "code",
   "execution_count": 8,
   "metadata": {},
   "outputs": [
    {
     "name": "stdout",
     "output_type": "stream",
     "text": [
      "Product\n",
      "Credit reporting, repair, or other    2209961\n",
      "Consumer Loan                          691959\n",
      "Debt collection                        505290\n",
      "Mortgage                               383776\n",
      "Name: count, dtype: int64\n"
     ]
    }
   ],
   "source": [
    "print(complaints_df['Product'].value_counts())  # Check the distribution of target classes"
   ]
  },
  {
   "cell_type": "code",
   "execution_count": 9,
   "metadata": {},
   "outputs": [
    {
     "data": {
      "text/plain": [
       "4"
      ]
     },
     "execution_count": 9,
     "metadata": {},
     "output_type": "execute_result"
    }
   ],
   "source": [
    "# How many unique financial products (the second column) are we talking about here\n",
    "complaints_df['Product'].nunique()"
   ]
  },
  {
   "cell_type": "code",
   "execution_count": 10,
   "metadata": {},
   "outputs": [
    {
     "name": "stdout",
     "output_type": "stream",
     "text": [
      "Shape of data (4065103, 18)\n"
     ]
    }
   ],
   "source": [
    "# The shape of the full, unmodified data\n",
    "print('Shape of data',complaints_df.shape)"
   ]
  },
  {
   "cell_type": "code",
   "execution_count": 11,
   "metadata": {},
   "outputs": [
    {
     "name": "stdout",
     "output_type": "stream",
     "text": [
      "Shape of data (4065103, 2)\n"
     ]
    }
   ],
   "source": [
    "# The idea is to demonstrate a workflow, so we will work with a smaller portion of the data\n",
    "\n",
    "# First, we retain only the columns relevant to our present purpose\n",
    "\n",
    "df=complaints_df[['Consumer complaint narrative','Product']]\n",
    "print('Shape of data',df.shape)"
   ]
  },
  {
   "cell_type": "code",
   "execution_count": 12,
   "metadata": {},
   "outputs": [
    {
     "name": "stdout",
     "output_type": "stream",
     "text": [
      "Before dropping the nulls\n"
     ]
    },
    {
     "data": {
      "text/plain": [
       "'Null count'"
      ]
     },
     "metadata": {},
     "output_type": "display_data"
    },
    {
     "data": {
      "text/plain": [
       "Consumer complaint narrative    2592900\n",
       "Product                          274117\n",
       "dtype: int64"
      ]
     },
     "metadata": {},
     "output_type": "display_data"
    },
    {
     "name": "stdout",
     "output_type": "stream",
     "text": [
      "Total rows of data 4065103\n",
      "================================================================================\n",
      "After dropping the nulls\n"
     ]
    },
    {
     "name": "stderr",
     "output_type": "stream",
     "text": [
      "C:\\Users\\hp\\AppData\\Local\\Temp\\ipykernel_17200\\2864751331.py:5: SettingWithCopyWarning: \n",
      "A value is trying to be set on a copy of a slice from a DataFrame\n",
      "\n",
      "See the caveats in the documentation: https://pandas.pydata.org/pandas-docs/stable/user_guide/indexing.html#returning-a-view-versus-a-copy\n",
      "  df.dropna(inplace=True)\n"
     ]
    },
    {
     "data": {
      "text/plain": [
       "'Null count'"
      ]
     },
     "metadata": {},
     "output_type": "display_data"
    },
    {
     "data": {
      "text/plain": [
       "Consumer complaint narrative    0\n",
       "Product                         0\n",
       "dtype: int64"
      ]
     },
     "metadata": {},
     "output_type": "display_data"
    },
    {
     "name": "stdout",
     "output_type": "stream",
     "text": [
      "Total rows of data 1411260\n"
     ]
    }
   ],
   "source": [
    "# Handling Missing Values\n",
    "print('Before dropping the nulls')\n",
    "display('Null count', df.isna().sum())\n",
    "print('Total rows of data', len(df))\n",
    "df.dropna(inplace=True)\n",
    "print('='*80)\n",
    "print('After dropping the nulls')\n",
    "display('Null count', df.isna().sum())\n",
    "print('Total rows of data', len(df))"
   ]
  },
  {
   "cell_type": "code",
   "execution_count": 13,
   "metadata": {},
   "outputs": [
    {
     "data": {
      "text/html": [
       "<div>\n",
       "<style scoped>\n",
       "    .dataframe tbody tr th:only-of-type {\n",
       "        vertical-align: middle;\n",
       "    }\n",
       "\n",
       "    .dataframe tbody tr th {\n",
       "        vertical-align: top;\n",
       "    }\n",
       "\n",
       "    .dataframe thead th {\n",
       "        text-align: right;\n",
       "    }\n",
       "</style>\n",
       "<table border=\"1\" class=\"dataframe\">\n",
       "  <thead>\n",
       "    <tr style=\"text-align: right;\">\n",
       "      <th></th>\n",
       "      <th>Consumer complaint narrative</th>\n",
       "      <th>Product</th>\n",
       "    </tr>\n",
       "  </thead>\n",
       "  <tbody>\n",
       "    <tr>\n",
       "      <th>0</th>\n",
       "      <td>On XX/XX/ I made a written request to have PMI...</td>\n",
       "      <td>Mortgage</td>\n",
       "    </tr>\n",
       "    <tr>\n",
       "      <th>1</th>\n",
       "      <td>This complaint relates to Select Portfolio Ser...</td>\n",
       "      <td>Mortgage</td>\n",
       "    </tr>\n",
       "    <tr>\n",
       "      <th>2</th>\n",
       "      <td>A couple years ago I became aware of identity ...</td>\n",
       "      <td>Credit reporting, repair, or other</td>\n",
       "    </tr>\n",
       "    <tr>\n",
       "      <th>3</th>\n",
       "      <td>In accordance with the Fair Credit Reporting a...</td>\n",
       "      <td>Credit reporting, repair, or other</td>\n",
       "    </tr>\n",
       "    <tr>\n",
       "      <th>4</th>\n",
       "      <td>Lexington law is what happened.\\n\\nThey dooped...</td>\n",
       "      <td>Credit reporting, repair, or other</td>\n",
       "    </tr>\n",
       "  </tbody>\n",
       "</table>\n",
       "</div>"
      ],
      "text/plain": [
       "                        Consumer complaint narrative  \\\n",
       "0  On XX/XX/ I made a written request to have PMI...   \n",
       "1  This complaint relates to Select Portfolio Ser...   \n",
       "2  A couple years ago I became aware of identity ...   \n",
       "3  In accordance with the Fair Credit Reporting a...   \n",
       "4  Lexington law is what happened.\\n\\nThey dooped...   \n",
       "\n",
       "                              Product  \n",
       "0                            Mortgage  \n",
       "1                            Mortgage  \n",
       "2  Credit reporting, repair, or other  \n",
       "3  Credit reporting, repair, or other  \n",
       "4  Credit reporting, repair, or other  "
      ]
     },
     "metadata": {},
     "output_type": "display_data"
    },
    {
     "data": {
      "text/html": [
       "<div>\n",
       "<style scoped>\n",
       "    .dataframe tbody tr th:only-of-type {\n",
       "        vertical-align: middle;\n",
       "    }\n",
       "\n",
       "    .dataframe tbody tr th {\n",
       "        vertical-align: top;\n",
       "    }\n",
       "\n",
       "    .dataframe thead th {\n",
       "        text-align: right;\n",
       "    }\n",
       "</style>\n",
       "<table border=\"1\" class=\"dataframe\">\n",
       "  <thead>\n",
       "    <tr style=\"text-align: right;\">\n",
       "      <th></th>\n",
       "      <th>Consumer complaint narrative</th>\n",
       "      <th>Product</th>\n",
       "    </tr>\n",
       "  </thead>\n",
       "  <tbody>\n",
       "    <tr>\n",
       "      <th>995</th>\n",
       "      <td>This is my another request that I have been a ...</td>\n",
       "      <td>Credit reporting, repair, or other</td>\n",
       "    </tr>\n",
       "    <tr>\n",
       "      <th>996</th>\n",
       "      <td>You are in Direct Violation of The Fair Credit...</td>\n",
       "      <td>Credit reporting, repair, or other</td>\n",
       "    </tr>\n",
       "    <tr>\n",
       "      <th>997</th>\n",
       "      <td>Seriously, it's been months since I investigat...</td>\n",
       "      <td>Credit reporting, repair, or other</td>\n",
       "    </tr>\n",
       "    <tr>\n",
       "      <th>998</th>\n",
       "      <td>I sent letters and spoke over the phone with a...</td>\n",
       "      <td>Credit reporting, repair, or other</td>\n",
       "    </tr>\n",
       "    <tr>\n",
       "      <th>999</th>\n",
       "      <td>When I reviewed my credit report, I discovered...</td>\n",
       "      <td>Credit reporting, repair, or other</td>\n",
       "    </tr>\n",
       "  </tbody>\n",
       "</table>\n",
       "</div>"
      ],
      "text/plain": [
       "                          Consumer complaint narrative  \\\n",
       "995  This is my another request that I have been a ...   \n",
       "996  You are in Direct Violation of The Fair Credit...   \n",
       "997  Seriously, it's been months since I investigat...   \n",
       "998  I sent letters and spoke over the phone with a...   \n",
       "999  When I reviewed my credit report, I discovered...   \n",
       "\n",
       "                                Product  \n",
       "995  Credit reporting, repair, or other  \n",
       "996  Credit reporting, repair, or other  \n",
       "997  Credit reporting, repair, or other  \n",
       "998  Credit reporting, repair, or other  \n",
       "999  Credit reporting, repair, or other  "
      ]
     },
     "metadata": {},
     "output_type": "display_data"
    }
   ],
   "source": [
    "# Subset Selection\n",
    "df = df.head(1000).reset_index(drop=True)\n",
    "display(df.head())\n",
    "display(df.tail())"
   ]
  },
  {
   "cell_type": "code",
   "execution_count": 14,
   "metadata": {},
   "outputs": [
    {
     "name": "stdout",
     "output_type": "stream",
     "text": [
      "Shape of data (1000, 2)\n"
     ]
    }
   ],
   "source": [
    "print('Shape of data',df.shape)"
   ]
  },
  {
   "cell_type": "code",
   "execution_count": 15,
   "metadata": {},
   "outputs": [
    {
     "data": {
      "text/plain": [
       "4"
      ]
     },
     "execution_count": 15,
     "metadata": {},
     "output_type": "execute_result"
    }
   ],
   "source": [
    "# Kinds of products on which complaints are generated\n",
    "df['Product'].nunique()"
   ]
  },
  {
   "cell_type": "code",
   "execution_count": 16,
   "metadata": {},
   "outputs": [
    {
     "data": {
      "text/plain": [
       "'On XX/XX/ I made a written request to have PMI removed from my mortgage as required by the Homeowners Protection Act. On XX/XX/XXXX  I called Truist to check on the status of my request since there had been no update on my request. The customer service representative I spoke to told me a letter had been sent on XX/XX/XXXX  ( attached ). I did not receive this letter until XX/XX/XXXX. The representative read the letter and informed me that my request had been denied because my home was a second home and my loan to value ratio ( LTV ) needed to be less than what my current LTV was. She would or could not elaborate on why my home was considered a second home, which it is not. This caused a panicked response by me and I immediately called XXXX XXXX  and my homeowners insurance to figure out why this was being reported as a second home. Nobody I spoke to at XXXX XXXX or my insurance agency could see that this was a second home. I then called Truist again for more information. I was told by the second representative ( XXXX ) that I was not at the required 80 % LTV when I made my request and that I should make the request again. This was false information. I called a third time and spoke with a different representative over concerns that I would not be able to make the payment for a Brokers Price Option ( BPO ) in time since the letter dated XX/XX/XXXX said I had 30 days from the date of the letter to make the payment via check before I had to start the request over. I informed Truist that I did not have a checkbook and in no way would make their deadline after receiving their letter 10 days into the deadline. The truist representative said I could make the payment via my escrow account. On XX/XX/XXXX, I made my regular mortgage payment with an additional {$190.00} escrow payment for the BPO. I then called Truist to verify that this would be earmarked for the BPO payment. I was then told that this would not be accepted and that I needed to send a check. I have now been provided false information by Truist four times in regards to the PMI removal process.'"
      ]
     },
     "execution_count": 16,
     "metadata": {},
     "output_type": "execute_result"
    }
   ],
   "source": [
    "# Typical Complaint\n",
    "df['Consumer complaint narrative'][0]"
   ]
  },
  {
   "cell_type": "markdown",
   "metadata": {},
   "source": [
    "### Categories of products - the classes for which we will predict"
   ]
  },
  {
   "cell_type": "code",
   "execution_count": 17,
   "metadata": {},
   "outputs": [
    {
     "data": {
      "text/plain": [
       "['Mortgage',\n",
       " 'Credit reporting, repair, or other',\n",
       " 'Debt collection',\n",
       " 'Consumer Loan']"
      ]
     },
     "execution_count": 17,
     "metadata": {},
     "output_type": "execute_result"
    }
   ],
   "source": [
    "list(df.Product.unique())"
   ]
  },
  {
   "cell_type": "code",
   "execution_count": 18,
   "metadata": {},
   "outputs": [
    {
     "data": {
      "text/plain": [
       "Product\n",
       "Credit reporting, repair, or other    605\n",
       "Consumer Loan                         237\n",
       "Debt collection                        95\n",
       "Mortgage                               63\n",
       "Name: count, dtype: int64"
      ]
     },
     "execution_count": 18,
     "metadata": {},
     "output_type": "execute_result"
    }
   ],
   "source": [
    "df['Product'].value_counts()"
   ]
  },
  {
   "cell_type": "markdown",
   "metadata": {},
   "source": [
    "## Step 2: Text Pre-Processing"
   ]
  },
  {
   "cell_type": "code",
   "execution_count": 44,
   "metadata": {},
   "outputs": [],
   "source": [
    "# Clean text (remove punctuation and convert to lowercase)\n",
    "df['Consumer complaint narrative'] = df['Consumer complaint narrative'].apply(lambda x: re.sub(r'[^a-zA-Z]', ' ', x).lower())"
   ]
  },
  {
   "cell_type": "code",
   "execution_count": 45,
   "metadata": {},
   "outputs": [],
   "source": [
    "# Initialize TF-IDF vectorizer\n",
    "tfidf_vectorizer = TfidfVectorizer(max_features=5000, stop_words='english')  # You can adjust max_features"
   ]
  },
  {
   "cell_type": "code",
   "execution_count": 46,
   "metadata": {},
   "outputs": [],
   "source": [
    "\n",
    "# Fit and transform the text data\n",
    "X_tfidf = tfidf_vectorizer.fit_transform(df['Consumer complaint narrative'])"
   ]
  },
  {
   "cell_type": "code",
   "execution_count": 47,
   "metadata": {},
   "outputs": [],
   "source": [
    "\n",
    "# Standardize the TF-IDF matrix (optional, but can improve some models)\n",
    "scaler = StandardScaler(with_mean=False)\n",
    "X_tfidf = scaler.fit_transform(X_tfidf)"
   ]
  },
  {
   "cell_type": "markdown",
   "metadata": {},
   "source": [
    "## Step 3: Selection of Multi Classification Model"
   ]
  },
  {
   "cell_type": "markdown",
   "metadata": {},
   "source": [
    "### In this step, I have choosen a multi-class classification model, Logistic Regression to train on our pre-processed text data."
   ]
  },
  {
   "cell_type": "code",
   "execution_count": 28,
   "metadata": {},
   "outputs": [],
   "source": [
    "# Split the data into training and testing sets\n",
    "X_train, X_test, y_train, y_test = train_test_split(\n",
    "    df['Consumer complaint narrative'], df['Product'], test_size=0.2, random_state=42\n",
    ")"
   ]
  },
  {
   "cell_type": "code",
   "execution_count": 29,
   "metadata": {},
   "outputs": [],
   "source": [
    "# Initialize TF-IDF vectorizer\n",
    "tfidf_vectorizer = TfidfVectorizer(max_features=5000)"
   ]
  },
  {
   "cell_type": "code",
   "execution_count": 30,
   "metadata": {},
   "outputs": [],
   "source": [
    "# Fit and transform the training data\n",
    "X_train_tfidf = tfidf_vectorizer.fit_transform(X_train)\n"
   ]
  },
  {
   "cell_type": "code",
   "execution_count": 31,
   "metadata": {},
   "outputs": [],
   "source": [
    "# Transform the test data\n",
    "X_test_tfidf = tfidf_vectorizer.transform(X_test)"
   ]
  },
  {
   "cell_type": "code",
   "execution_count": 32,
   "metadata": {},
   "outputs": [
    {
     "data": {
      "text/html": [
       "<style>#sk-container-id-2 {color: black;}#sk-container-id-2 pre{padding: 0;}#sk-container-id-2 div.sk-toggleable {background-color: white;}#sk-container-id-2 label.sk-toggleable__label {cursor: pointer;display: block;width: 100%;margin-bottom: 0;padding: 0.3em;box-sizing: border-box;text-align: center;}#sk-container-id-2 label.sk-toggleable__label-arrow:before {content: \"▸\";float: left;margin-right: 0.25em;color: #696969;}#sk-container-id-2 label.sk-toggleable__label-arrow:hover:before {color: black;}#sk-container-id-2 div.sk-estimator:hover label.sk-toggleable__label-arrow:before {color: black;}#sk-container-id-2 div.sk-toggleable__content {max-height: 0;max-width: 0;overflow: hidden;text-align: left;background-color: #f0f8ff;}#sk-container-id-2 div.sk-toggleable__content pre {margin: 0.2em;color: black;border-radius: 0.25em;background-color: #f0f8ff;}#sk-container-id-2 input.sk-toggleable__control:checked~div.sk-toggleable__content {max-height: 200px;max-width: 100%;overflow: auto;}#sk-container-id-2 input.sk-toggleable__control:checked~label.sk-toggleable__label-arrow:before {content: \"▾\";}#sk-container-id-2 div.sk-estimator input.sk-toggleable__control:checked~label.sk-toggleable__label {background-color: #d4ebff;}#sk-container-id-2 div.sk-label input.sk-toggleable__control:checked~label.sk-toggleable__label {background-color: #d4ebff;}#sk-container-id-2 input.sk-hidden--visually {border: 0;clip: rect(1px 1px 1px 1px);clip: rect(1px, 1px, 1px, 1px);height: 1px;margin: -1px;overflow: hidden;padding: 0;position: absolute;width: 1px;}#sk-container-id-2 div.sk-estimator {font-family: monospace;background-color: #f0f8ff;border: 1px dotted black;border-radius: 0.25em;box-sizing: border-box;margin-bottom: 0.5em;}#sk-container-id-2 div.sk-estimator:hover {background-color: #d4ebff;}#sk-container-id-2 div.sk-parallel-item::after {content: \"\";width: 100%;border-bottom: 1px solid gray;flex-grow: 1;}#sk-container-id-2 div.sk-label:hover label.sk-toggleable__label {background-color: #d4ebff;}#sk-container-id-2 div.sk-serial::before {content: \"\";position: absolute;border-left: 1px solid gray;box-sizing: border-box;top: 0;bottom: 0;left: 50%;z-index: 0;}#sk-container-id-2 div.sk-serial {display: flex;flex-direction: column;align-items: center;background-color: white;padding-right: 0.2em;padding-left: 0.2em;position: relative;}#sk-container-id-2 div.sk-item {position: relative;z-index: 1;}#sk-container-id-2 div.sk-parallel {display: flex;align-items: stretch;justify-content: center;background-color: white;position: relative;}#sk-container-id-2 div.sk-item::before, #sk-container-id-2 div.sk-parallel-item::before {content: \"\";position: absolute;border-left: 1px solid gray;box-sizing: border-box;top: 0;bottom: 0;left: 50%;z-index: -1;}#sk-container-id-2 div.sk-parallel-item {display: flex;flex-direction: column;z-index: 1;position: relative;background-color: white;}#sk-container-id-2 div.sk-parallel-item:first-child::after {align-self: flex-end;width: 50%;}#sk-container-id-2 div.sk-parallel-item:last-child::after {align-self: flex-start;width: 50%;}#sk-container-id-2 div.sk-parallel-item:only-child::after {width: 0;}#sk-container-id-2 div.sk-dashed-wrapped {border: 1px dashed gray;margin: 0 0.4em 0.5em 0.4em;box-sizing: border-box;padding-bottom: 0.4em;background-color: white;}#sk-container-id-2 div.sk-label label {font-family: monospace;font-weight: bold;display: inline-block;line-height: 1.2em;}#sk-container-id-2 div.sk-label-container {text-align: center;}#sk-container-id-2 div.sk-container {/* jupyter's `normalize.less` sets `[hidden] { display: none; }` but bootstrap.min.css set `[hidden] { display: none !important; }` so we also need the `!important` here to be able to override the default hidden behavior on the sphinx rendered scikit-learn.org. See: https://github.com/scikit-learn/scikit-learn/issues/21755 */display: inline-block !important;position: relative;}#sk-container-id-2 div.sk-text-repr-fallback {display: none;}</style><div id=\"sk-container-id-2\" class=\"sk-top-container\"><div class=\"sk-text-repr-fallback\"><pre>LogisticRegression(max_iter=1000, solver=&#x27;sag&#x27;)</pre><b>In a Jupyter environment, please rerun this cell to show the HTML representation or trust the notebook. <br />On GitHub, the HTML representation is unable to render, please try loading this page with nbviewer.org.</b></div><div class=\"sk-container\" hidden><div class=\"sk-item\"><div class=\"sk-estimator sk-toggleable\"><input class=\"sk-toggleable__control sk-hidden--visually\" id=\"sk-estimator-id-2\" type=\"checkbox\" checked><label for=\"sk-estimator-id-2\" class=\"sk-toggleable__label sk-toggleable__label-arrow\">LogisticRegression</label><div class=\"sk-toggleable__content\"><pre>LogisticRegression(max_iter=1000, solver=&#x27;sag&#x27;)</pre></div></div></div></div></div>"
      ],
      "text/plain": [
       "LogisticRegression(max_iter=1000, solver='sag')"
      ]
     },
     "execution_count": 32,
     "metadata": {},
     "output_type": "execute_result"
    }
   ],
   "source": [
    "# Initialize and train a Logistic Regression model with an alternative solver (sag) and increased max_iter\n",
    "model = LogisticRegression(solver='sag', max_iter=1000)\n",
    "model.fit(X_train_tfidf, y_train)"
   ]
  },
  {
   "cell_type": "code",
   "execution_count": 33,
   "metadata": {},
   "outputs": [],
   "source": [
    "# Make predictions on the test data\n",
    "y_pred = model.predict(X_test_tfidf)"
   ]
  },
  {
   "cell_type": "markdown",
   "metadata": {},
   "source": [
    "## Step 4: Comparison of Model Performance"
   ]
  },
  {
   "cell_type": "markdown",
   "metadata": {},
   "source": [
    "###  In this step, we will evaluate the performance of our text classification model using various metrics."
   ]
  },
  {
   "cell_type": "code",
   "execution_count": 34,
   "metadata": {},
   "outputs": [
    {
     "name": "stdout",
     "output_type": "stream",
     "text": [
      "Accuracy: 0.845\n"
     ]
    }
   ],
   "source": [
    "# Calculate accuracy\n",
    "accuracy = accuracy_score(y_test, y_pred)\n",
    "print(\"Accuracy:\", accuracy)"
   ]
  },
  {
   "cell_type": "markdown",
   "metadata": {},
   "source": [
    "#An accuracy of 0.845 means that the text classification model correctly predicted the category for approximately 84.5% of the test data samples. In other words, out of all the test samples, about 84.5% of them were classified into the correct categories by your model."
   ]
  },
  {
   "cell_type": "code",
   "execution_count": 35,
   "metadata": {},
   "outputs": [
    {
     "name": "stdout",
     "output_type": "stream",
     "text": [
      "Classification Report:\n",
      "                                     precision    recall  f1-score   support\n",
      "\n",
      "                     Consumer Loan       0.75      0.82      0.79        56\n",
      "Credit reporting, repair, or other       0.88      0.96      0.91       117\n",
      "                   Debt collection       1.00      0.50      0.67        10\n",
      "                          Mortgage       1.00      0.35      0.52        17\n",
      "\n",
      "                          accuracy                           0.84       200\n",
      "                         macro avg       0.91      0.66      0.72       200\n",
      "                      weighted avg       0.86      0.84      0.83       200\n",
      "\n"
     ]
    }
   ],
   "source": [
    "# Generate a classification report\n",
    "class_report = classification_report(y_test, y_pred)\n",
    "print(\"Classification Report:\\n\", class_report)"
   ]
  },
  {
   "cell_type": "markdown",
   "metadata": {},
   "source": [
    "## Step 5: Model Evaluation"
   ]
  },
  {
   "cell_type": "code",
   "execution_count": 42,
   "metadata": {},
   "outputs": [
    {
     "name": "stdout",
     "output_type": "stream",
     "text": [
      "Confusion Matrix:\n",
      " [[ 46  10   0   0]\n",
      " [  5 112   0   0]\n",
      " [  3   2   5   0]\n",
      " [  7   4   0   6]]\n"
     ]
    }
   ],
   "source": [
    "# Generate a confusion matrix\n",
    "cm = confusion_matrix(y_test, y_pred)\n",
    "print(\"Confusion Matrix:\\n\", cm)"
   ]
  },
  {
   "cell_type": "code",
   "execution_count": 41,
   "metadata": {},
   "outputs": [
    {
     "data": {
      "image/png": "[encoded data removed]",
      "text/plain": [
       "<Figure size 800x600 with 2 Axes>"
      ]
     },
     "metadata": {},
     "output_type": "display_data"
    }
   ],
   "source": [
    "# Plot confusion matrix\n",
    "plt.figure(figsize=(8, 6))\n",
    "sns.heatmap(cm, annot=True, fmt='d', cmap='Blues', xticklabels=df['Product'].unique(), yticklabels=df['Product'].unique())\n",
    "plt.xlabel('Predicted')\n",
    "plt.ylabel('Actual')\n",
    "plt.title('Confusion Matrix')\n",
    "plt.show()"
   ]
  },
  {
   "cell_type": "markdown",
   "metadata": {},
   "source": [
    "## Step 6: Prediction"
   ]
  },
  {
   "cell_type": "markdown",
   "metadata": {},
   "source": [
    "### This step involves making predictions on new consumer complaints using the trained model."
   ]
  },
  {
   "cell_type": "code",
   "execution_count": 48,
   "metadata": {},
   "outputs": [],
   "source": [
    "# Example new complaint #1\n",
    "new_complaint = \"I have issues with my mortgage payment. It's not being processed correctly.\""
   ]
  },
  {
   "cell_type": "code",
   "execution_count": 50,
   "metadata": {},
   "outputs": [],
   "source": [
    "# Pre-process the new complaint\n",
    "new_complaint = re.sub(r'[^a-zA-Z]', ' ', new_complaint).lower()\n",
    "new_complaint_tfidf = tfidf_vectorizer.transform([new_complaint])"
   ]
  },
  {
   "cell_type": "code",
   "execution_count": 52,
   "metadata": {},
   "outputs": [
    {
     "name": "stdout",
     "output_type": "stream",
     "text": [
      "Predicted Category: Credit reporting, repair, or other\n"
     ]
    }
   ],
   "source": [
    "# Make a prediction\n",
    "predicted_category = model.predict(new_complaint_tfidf)\n",
    "print(\"Predicted Category:\", predicted_category[0])"
   ]
  },
  {
   "cell_type": "code",
   "execution_count": 72,
   "metadata": {},
   "outputs": [
    {
     "name": "stdout",
     "output_type": "stream",
     "text": [
      "Predicted Category: Debt collection\n"
     ]
    }
   ],
   "source": [
    "# Example new complaint #2\n",
    "new_complaint_2 = \"I'm receiving constant calls from a debt collector, and it's harassment.\"\n",
    "\n",
    "# Pre-process the new complaint\n",
    "new_complaint_2 = re.sub(r'[^a-zA-Z]', ' ', new_complaint_2).lower()\n",
    "new_complaint_tfidf_2 = tfidf_vectorizer.transform([new_complaint_2])\n",
    "\n",
    "# Make a prediction\n",
    "predicted_category_2 = model.predict(new_complaint_tfidf_2)\n",
    "print(\"Predicted Category:\", predicted_category_2[0])\n"
   ]
  },
  {
   "cell_type": "code",
   "execution_count": 73,
   "metadata": {},
   "outputs": [
    {
     "name": "stdout",
     "output_type": "stream",
     "text": [
      "Predicted Category: Credit reporting, repair, or other\n"
     ]
    }
   ],
   "source": [
    "# Example new complaint #3\n",
    "new_complaint_3 = \"I applied for a credit card, but my application was rejected without any explanation.\"\n",
    "\n",
    "# Pre-process the new complaint\n",
    "new_complaint_3 = re.sub(r'[^a-zA-Z]', ' ', new_complaint_3).lower()\n",
    "new_complaint_tfidf_3 = tfidf_vectorizer.transform([new_complaint_3])\n",
    "\n",
    "# Make a prediction\n",
    "predicted_category_3 = model.predict(new_complaint_tfidf_3)\n",
    "print(\"Predicted Category:\", predicted_category_3[0])\n"
   ]
  },
  {
   "cell_type": "code",
   "execution_count": 74,
   "metadata": {},
   "outputs": [
    {
     "name": "stdout",
     "output_type": "stream",
     "text": [
      "Predicted Category: Consumer Loan\n"
     ]
    }
   ],
   "source": [
    "# Example new complaint #4\n",
    "new_complaint_4 = \"I took out a personal loan, and the interest rate is much higher than what was initially promised.\"\n",
    "\n",
    "# Pre-process the new complaint\n",
    "new_complaint_4 = re.sub(r'[^a-zA-Z]', ' ', new_complaint_4).lower()\n",
    "new_complaint_tfidf_4 = tfidf_vectorizer.transform([new_complaint_4])\n",
    "\n",
    "# Make a prediction\n",
    "predicted_category_4 = model.predict(new_complaint_tfidf_4)\n",
    "print(\"Predicted Category:\", predicted_category_4[0])\n"
   ]
  },
  {
   "cell_type": "code",
   "execution_count": 76,
   "metadata": {},
   "outputs": [
    {
     "name": "stdout",
     "output_type": "stream",
     "text": [
      "Predicted Category: Credit reporting, repair, or other\n"
     ]
    }
   ],
   "source": [
    "# Example new complaint #5\n",
    "new_complaint_5 = \"I've been facing delays in my mortgage approval process, and the communication from the lender is inadequate.\"\n",
    "\n",
    "# Pre-process the new complaint\n",
    "new_complaint_5 = re.sub(r'[^a-zA-Z]', ' ', new_complaint_5).lower()\n",
    "new_complaint_tfidf_5 = tfidf_vectorizer.transform([new_complaint_5])\n",
    "\n",
    "# Make a prediction\n",
    "predicted_category_5 = model.predict(new_complaint_tfidf_5)\n",
    "print(\"Predicted Category:\", predicted_category_5[0])\n"
   ]
  },
  {
   "cell_type": "markdown",
   "metadata": {},
   "source": [
    "### Note on Model Limitation: Predicting Mortgage-Related Complaints"
   ]
  },
  {
   "cell_type": "markdown",
   "metadata": {},
   "source": [
    "\n",
    "Our text classification model effectively categorizes various consumer complaints, but it may have limitations when predicting mortgage-related issues. Mortgage complaints often involve intricate details that may not be fully captured by the model. While it performs well across other categories, we acknowledge potential challenges in accurately predicting mortgage-related complaints due to their complexity.\n",
    "\n",
    "We appreciate your understanding and remain committed to improving our model's performance in this area."
   ]
  }
 ],
 "metadata": {
  "kernelspec": {
   "display_name": "text-classification-env",
   "language": "python",
   "name": "python3"
  },
  "language_info": {
   "codemirror_mode": {
    "name": "ipython",
    "version": 3
   },
   "file_extension": ".py",
   "mimetype": "text/x-python",
   "name": "python",
   "nbconvert_exporter": "python",
   "pygments_lexer": "ipython3",
   "version": "3.11.5"
  },
  "orig_nbformat": 4
 },
 "nbformat": 4,
 "nbformat_minor": 2
}
